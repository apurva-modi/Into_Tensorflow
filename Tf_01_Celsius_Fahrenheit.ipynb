{
  "nbformat": 4,
  "nbformat_minor": 0,
  "metadata": {
    "colab": {
      "name": "Tf_01.ipynb",
      "provenance": [],
      "collapsed_sections": []
    },
    "kernelspec": {
      "name": "python3",
      "display_name": "Python 3"
    }
  },
  "cells": [
    {
      "cell_type": "markdown",
      "metadata": {
        "id": "vilyWALFFgFS",
        "colab_type": "text"
      },
      "source": [
        "## Import dependencies"
      ]
    },
    {
      "cell_type": "code",
      "metadata": {
        "id": "yXyiZT5MBgws",
        "colab_type": "code",
        "colab": {}
      },
      "source": [
        "# Importing tensorflow version\n",
        "try:\n",
        "  %tensorflow_version 2.x\n",
        "except Exceptions:\n",
        "  pass\n",
        "import tensorflow as tf"
      ],
      "execution_count": 0,
      "outputs": []
    },
    {
      "cell_type": "code",
      "metadata": {
        "id": "LDPfE-MRCBYs",
        "colab_type": "code",
        "colab": {}
      },
      "source": [
        "# Importing dependencies \n",
        "import numpy as np\n",
        "import logging\n",
        "logger =tf.get_logger()\n",
        "logger.setLevel(logging.ERROR)"
      ],
      "execution_count": 0,
      "outputs": []
    },
    {
      "cell_type": "markdown",
      "metadata": {
        "id": "zFlDlPRFFVly",
        "colab_type": "text"
      },
      "source": [
        "## Setting up Training Data"
      ]
    },
    {
      "cell_type": "code",
      "metadata": {
        "id": "2VUnoXgsCQXV",
        "colab_type": "code",
        "outputId": "dc03f9ae-f889-4e35-d4ed-6c1cf40a859e",
        "colab": {
          "base_uri": "https://localhost:8080/",
          "height": 136
        }
      },
      "source": [
        "# Setting Up training data \n",
        "celsius = np.array([-40,-10,0,8,15,22,38], dtype=float)\n",
        "fahrenheit =np.array([-40,14,32,46,59,72,100], dtype=float)\n",
        "for i,c in enumerate(celsius):\n",
        "  print(\"{} degrees celsius = {} degrees Fahrenheit\". format(c,fahrenheit[i]))\n",
        "  "
      ],
      "execution_count": 0,
      "outputs": [
        {
          "output_type": "stream",
          "text": [
            "-40.0 degrees celsius = -40.0 degrees Fahrenheit\n",
            "-10.0 degrees celsius = 14.0 degrees Fahrenheit\n",
            "0.0 degrees celsius = 32.0 degrees Fahrenheit\n",
            "8.0 degrees celsius = 46.0 degrees Fahrenheit\n",
            "15.0 degrees celsius = 59.0 degrees Fahrenheit\n",
            "22.0 degrees celsius = 72.0 degrees Fahrenheit\n",
            "38.0 degrees celsius = 100.0 degrees Fahrenheit\n"
          ],
          "name": "stdout"
        }
      ]
    },
    {
      "cell_type": "markdown",
      "metadata": {
        "id": "ULADMqMXE1Xi",
        "colab_type": "text"
      },
      "source": [
        "## Some Machine Learning terminology\n",
        "- **Feature** — The input(s) to our model. In this case, a single value — the degrees in **Celsius**.\n",
        "\n",
        "- **Labels** — The output our model predicts. In this case, a single value — the degrees in **Fahrenheit**.\n",
        "\n",
        "- **Example** — A pair of inputs/outputs used during training. In our case a pair of values from celsius and fahrenheit at a specific index, such as (15,59)."
      ]
    },
    {
      "cell_type": "markdown",
      "metadata": {
        "id": "yVgOzfxUF3by",
        "colab_type": "text"
      },
      "source": [
        "## Create a Model\n",
        "Since the problem is straight forward we will use simplest possible model, dense network - single layered with only single neuron. "
      ]
    },
    {
      "cell_type": "code",
      "metadata": {
        "id": "htI1uf8eCWic",
        "colab_type": "code",
        "colab": {}
      },
      "source": [
        "# input_shape=[1] - shape is 1D with one member. \n",
        "# units to specify number of neurons in the layer.\n",
        "# In a multi-layered network, the size and shape of the layer would need to match the input_shape of the next layer\n",
        "l0= tf.keras.layers.Dense(units=1,input_shape=[1])"
      ],
      "execution_count": 0,
      "outputs": []
    },
    {
      "cell_type": "markdown",
      "metadata": {
        "id": "8z0V6BgsbOJe",
        "colab_type": "text"
      },
      "source": [
        "### Assemble layers into model "
      ]
    },
    {
      "cell_type": "code",
      "metadata": {
        "id": "bmpRQWY5b3i1",
        "colab_type": "code",
        "colab": {}
      },
      "source": [
        "# Sequential layers takes the list of layers as arguments specifying the order of calculation from input to output.\n",
        "model = tf.keras.Sequential(l0)"
      ],
      "execution_count": 0,
      "outputs": []
    },
    {
      "cell_type": "code",
      "metadata": {
        "id": "mHVyYGaGIAPW",
        "colab_type": "code",
        "colab": {}
      },
      "source": [
        "model = tf.keras.Sequential([\n",
        "                             tf.keras.layers.Dense(units=1, input_shape=[1])\n",
        "])"
      ],
      "execution_count": 0,
      "outputs": []
    },
    {
      "cell_type": "markdown",
      "metadata": {
        "id": "U5827HqrcZHl",
        "colab_type": "text"
      },
      "source": [
        "## Compile the model with loss and optimzation\n",
        "- Before training the model has to be compiled.\n",
        "- For compiling the model is given the -\n",
        "    - **Loss function** : A way of mesuring how far is the prediction from the desired output (The measured differnces is called the loss)\n",
        "    - **Optimizer function** : A way of adjusting internal values in order to minimise/reduce the loss."
      ]
    },
    {
      "cell_type": "code",
      "metadata": {
        "id": "wsqqiwM6bd1r",
        "colab_type": "code",
        "colab": {}
      },
      "source": [
        "# mean_squared_error and Adam are standard for the simple model\n",
        "# 0.1 = learning rate, if too low it takes many iterations if too high accuracy goes down ranges between (0.001 to 0.1).\n",
        "model.compile(loss='mean_squared_error', \n",
        "              optimizer= tf.keras.optimizers.Adam(0.1))"
      ],
      "execution_count": 0,
      "outputs": []
    },
    {
      "cell_type": "markdown",
      "metadata": {
        "id": "PzJMXBKrfIKy",
        "colab_type": "text"
      },
      "source": [
        "## Train the model\n",
        "Use fit function to train the model.\n",
        "> During training, the model takes in Celsius values, performs a calculation using the current internal variables (called \"weights\") and outputs values which are meant to be the Fahrenheit equivalent. Since the weights are initially set randomly, the output will not be close to the correct value. The difference between the actual output and the desired output is calculated using the loss function, and the optimizer function directs how the weights should be adjusted.\n",
        "\n",
        "> This cycle of calculate, compare, adjust is controlled by the fit method. \n",
        "- The **first argument** is the inputs. \n",
        "- The **second argument** is the desired outputs. \n",
        "- The **epochs** argument specifies how many times this cycle should be run.\n",
        "- The **verbose** argument controls how much output the method produces."
      ]
    },
    {
      "cell_type": "code",
      "metadata": {
        "id": "dIsO0JpkfGfx",
        "colab_type": "code",
        "outputId": "0695047b-b00e-429a-a666-cd9d63c2b1b7",
        "colab": {
          "base_uri": "https://localhost:8080/",
          "height": 34
        }
      },
      "source": [
        "model_train =model.fit(celsius,fahrenheit,epochs=500, verbose=False)\n",
        "print(\"Finished Training\")"
      ],
      "execution_count": 0,
      "outputs": [
        {
          "output_type": "stream",
          "text": [
            "Finished Training\n"
          ],
          "name": "stdout"
        }
      ]
    },
    {
      "cell_type": "markdown",
      "metadata": {
        "id": "RfleHF3qhuYk",
        "colab_type": "text"
      },
      "source": [
        "## Displaying the Training Statistics \n",
        "- **fit** method returns a history object\n",
        "- We can use Matplotlib to visualize the history object and to see how the loss of this object goes down with number of epochs.\n",
        "\n"
      ]
    },
    {
      "cell_type": "code",
      "metadata": {
        "id": "w7umrMXFhrQB",
        "colab_type": "code",
        "outputId": "ea8bfbd7-d3a8-4900-d2db-b9ed997d9597",
        "colab": {
          "base_uri": "https://localhost:8080/",
          "height": 312
        }
      },
      "source": [
        "import matplotlib.pyplot as plt\n",
        "plt.xlabel('Epoch Number')\n",
        "plt.ylabel('Loss Magnitude')\n",
        "plt.title(\" Loss vs Epoch \")\n",
        "plt.plot(model_train.history['loss'])"
      ],
      "execution_count": 0,
      "outputs": [
        {
          "output_type": "execute_result",
          "data": {
            "text/plain": [
              "[<matplotlib.lines.Line2D at 0x7fd9a59fde80>]"
            ]
          },
          "metadata": {
            "tags": []
          },
          "execution_count": 39
        },
        {
          "output_type": "display_data",
          "data": {
            "image/png": "[encoded data removed]",
            "text/plain": [
              "<Figure size 432x288 with 1 Axes>"
            ]
          },
          "metadata": {
            "tags": []
          }
        }
      ]
    },
    {
      "cell_type": "markdown",
      "metadata": {
        "id": "MP_kph1Z0Z72",
        "colab_type": "text"
      },
      "source": [
        "## Using the model to predict values \n"
      ]
    },
    {
      "cell_type": "code",
      "metadata": {
        "id": "88m7JMhJz8O9",
        "colab_type": "code",
        "outputId": "2465959d-33f8-47a7-b459-a418b6d37596",
        "colab": {
          "base_uri": "https://localhost:8080/",
          "height": 34
        }
      },
      "source": [
        "print(model.predict([100.0]))"
      ],
      "execution_count": 0,
      "outputs": [
        {
          "output_type": "stream",
          "text": [
            "[[211.28056]]\n"
          ],
          "name": "stdout"
        }
      ]
    },
    {
      "cell_type": "code",
      "metadata": {
        "id": "JJyOakQj0pGk",
        "colab_type": "code",
        "outputId": "1e2aceb8-8168-4955-c0fc-41a0884ae897",
        "colab": {
          "base_uri": "https://localhost:8080/",
          "height": 34
        }
      },
      "source": [
        "print(\"These are the layer variables: {}\".format(l0.get_weights()))"
      ],
      "execution_count": 0,
      "outputs": [
        {
          "output_type": "stream",
          "text": [
            "These are the layer variables: [array([[1.4150866]], dtype=float32), array([0.], dtype=float32)]\n"
          ],
          "name": "stdout"
        }
      ]
    },
    {
      "cell_type": "markdown",
      "metadata": {
        "id": "D6RKzRVy9pI5",
        "colab_type": "text"
      },
      "source": [
        "## Experimenting with the Dense Network"
      ]
    },
    {
      "cell_type": "code",
      "metadata": {
        "id": "l0sPoc4O1ANm",
        "colab_type": "code",
        "outputId": "17477558-23b6-401f-f926-275eac452964",
        "colab": {
          "base_uri": "https://localhost:8080/",
          "height": 255
        }
      },
      "source": [
        "l0 = tf.keras.layers.Dense(units=4, input_shape=[1])\n",
        "l1 = tf.keras.layers.Dense(units=4)\n",
        "l2 = tf.keras.layers.Dense(units=1)\n",
        "model = tf.keras.Sequential([l0, l1, l2])\n",
        "model.compile(loss='mean_squared_error', optimizer=tf.keras.optimizers.Adam(0.1))\n",
        "model.fit(celsius, fahrenheit, epochs=500, verbose=False)\n",
        "print(\"Finished training the model\")\n",
        "print(model.predict([100.0]))\n",
        "print(\"Model predicts that 100 degrees Celsius is: {} degrees Fahrenheit\".format(model.predict([100.0])))\n",
        "print(\"These are the l0 variables: {}\".format(l0.get_weights()))\n",
        "print(\"These are the l1 variables: {}\".format(l1.get_weights()))\n",
        "print(\"These are the l2 variables: {}\".format(l2.get_weights()))"
      ],
      "execution_count": 0,
      "outputs": [
        {
          "output_type": "stream",
          "text": [
            "Finished training the model\n",
            "[[211.74747]]\n",
            "Model predicts that 100 degrees Celsius is: [[211.74747]] degrees Fahrenheit\n",
            "These are the l0 variables: [array([[ 0.7953442 , -0.2833251 ,  0.2630216 , -0.12296216]],\n",
            "      dtype=float32), array([ 3.4322412 ,  0.50864846, -1.4503504 ,  2.9740028 ], dtype=float32)]\n",
            "These are the l1 variables: [array([[ 0.8413565 ,  1.1296922 , -0.00520743, -0.87533617],\n",
            "       [-0.22408196, -0.25643662, -0.21093169, -0.60769427],\n",
            "       [-0.15269352, -0.09645667,  0.60207933,  0.369201  ],\n",
            "       [ 0.9910636 ,  0.24368672, -0.27782348, -0.7259432 ]],\n",
            "      dtype=float32), array([ 3.2698886,  2.976815 , -1.9197606, -3.2678993], dtype=float32)]\n",
            "These are the l2 variables: [array([[ 1.0799022 ],\n",
            "       [ 0.824599  ],\n",
            "       [-0.08341711],\n",
            "       [-1.3245872 ]], dtype=float32), array([3.1475773], dtype=float32)]\n"
          ],
          "name": "stdout"
        }
      ]
    },
    {
      "cell_type": "code",
      "metadata": {
        "id": "AO_OYAHd8_nY",
        "colab_type": "code",
        "colab": {}
      },
      "source": [
        ""
      ],
      "execution_count": 0,
      "outputs": []
    }
  ]
}